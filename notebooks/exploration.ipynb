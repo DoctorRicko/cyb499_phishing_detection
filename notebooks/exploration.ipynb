{
 "cells": [
  {
   "cell_type": "code",
   "execution_count": null,
   "id": "7d6784f7",
   "metadata": {
    "vscode": {
     "languageId": "plaintext"
    }
   },
   "outputs": [],
   "source": [
    "# [1] Enhanced Data Loading\n",
    "import pandas as pd\n",
    "from pathlib import Path\n",
    "import matplotlib.pyplot as plt\n",
    "\n",
    "# Load data (updated paths to match your actual structure)\n",
    "data_dir = Path(\"../data/extracted/phishing\")\n",
    "legit = pd.read_csv(data_dir / \"enron.csv\")[lambda x: x['label'] == 0]\n",
    "phish = pd.read_csv(data_dir / \"enron.csv\")[lambda x: x['label'] == 1]\n",
    "\n",
    "# Combine subject + body\n",
    "df = pd.concat([\n",
    "    legit.assign(\n",
    "        text=lambda x: x['subject'].fillna('') + \"\\n\\n\" + x['body'].fillna(''),\n",
    "        type=\"legitimate\"\n",
    "    ),\n",
    "    phish.assign(\n",
    "        text=lambda x: x['subject'].fillna('') + \"\\n\\n\" + x['body'].fillna(''),\n",
    "        type=\"phishing\"\n",
    "    )\n",
    "])\n",
    "\n",
    "# [2] Enhanced Class Analysis\n",
    "fig, (ax1, ax2) = plt.subplots(1, 2, figsize=(12, 4))\n",
    "\n",
    "# Class distribution\n",
    "df[\"type\"].value_counts().plot.pie(\n",
    "    autopct='%.1f%%', \n",
    "    title=\"Class Distribution\",\n",
    "    ax=ax1\n",
    ")\n",
    "\n",
    "# Text length distribution\n",
    "for label in df['type'].unique():\n",
    "    df[df['type']==label]['text'].str.len().plot(\n",
    "        kind='kde',\n",
    "        ax=ax2,\n",
    "        label=label\n",
    "    )\n",
    "ax2.set_title(\"Text Length Distribution\")\n",
    "ax2.legend()\n",
    "\n",
    "plt.tight_layout()\n",
    "plt.show()\n",
    "\n",
    "# [3] Vocabulary Analysis (Critical for LLMs)\n",
    "from collections import Counter\n",
    "from sklearn.feature_extraction.text import CountVectorizer\n",
    "\n",
    "# Top phishing terms\n",
    "phish_words = Counter(\" \".join(phish['subject'] + \" \" + phish['body']).lower().split()).most_common(20)\n",
    "print(\"Top phishing terms:\", phish_words)\n",
    "\n",
    "# [4] Sample Comparison\n",
    "print(\"\\n=== Legitimate Sample ===\")\n",
    "print(df[df['type']=='legitimate']['text'].iloc[0][:500] + \"...\")\n",
    "print(\"\\n=== Phishing Sample ===\")\n",
    "print(df[df['type']=='phishing']['text'].iloc[0][:500] + \"...\")"
   ]
  }
 ],
 "metadata": {
  "language_info": {
   "name": "python"
  }
 },
 "nbformat": 4,
 "nbformat_minor": 5
}
