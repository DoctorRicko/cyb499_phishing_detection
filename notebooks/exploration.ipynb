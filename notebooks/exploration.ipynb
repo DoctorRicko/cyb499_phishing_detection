{
 "cells": [
  {
   "cell_type": "code",
   "execution_count": null,
   "id": "7d6784f7",
   "metadata": {
    "vscode": {
     "languageId": "plaintext"
    }
   },
   "outputs": [],
   "source": [
    "# /notebooks/exploration.ipynb\n",
    "[1] # Data Overview\n",
    "import pandas as pd\n",
    "from src.config import DATA_DIR\n",
    "\n",
    "df = pd.concat([\n",
    "    pd.read_csv(DATA_DIR / \"raw/phishtank/samples.csv\").assign(type=\"phishing\"),\n",
    "    pd.read_csv(DATA_DIR / \"raw/enron/emails.csv\").assign(type=\"legitimate\")\n",
    "])\n",
    "\n",
    "[2] # Class Distribution\n",
    "df[\"type\"].value_counts().plot.pie(title=\"Dataset Balance\")\n",
    "\n",
    "[3] # Text Length Analysis\n",
    "df[\"text_length\"] = df[\"text\"].str.len()\n",
    "df.groupby(\"type\")[\"text_length\"].plot.hist(bins=50, alpha=0.5, legend=True)"
   ]
  }
 ],
 "metadata": {
  "language_info": {
   "name": "python"
  }
 },
 "nbformat": 4,
 "nbformat_minor": 5
}
