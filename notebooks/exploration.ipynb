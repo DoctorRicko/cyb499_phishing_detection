{
 "cells": [
  {
   "cell_type": "code",
   "execution_count": null,
   "id": "7d6784f7",
   "metadata": {
    "vscode": {
     "languageId": "plaintext"
    }
   },
   "outputs": [],
   "source": [
    "# [1] Setup and Data Loading\n",
    "import pandas as pd\n",
    "from pathlib import Path\n",
    "import matplotlib.pyplot as plt\n",
    "from transformers import AutoTokenizer\n",
    "\n",
    "# Verify paths match your actual structure\n",
    "DATA_DIR = Path(\"../data/extracted/phishing\")\n",
    "assert DATA_DIR.exists(), f\"Path not found: {DATA_DIR}\"\n",
    "\n",
    "df = pd.read_csv(DATA_DIR / \"enron.csv\")\n",
    "print(\"Raw data loaded. Columns:\", df.columns.tolist())\n",
    "\n",
    "# [2] Preprocess and Class Balance Check\n",
    "df['text'] = df['subject'].fillna('') + \"\\n\\n\" + df['body'].fillna('')\n",
    "class_counts = df['label'].value_counts()\n",
    "print(f\"\\nClass counts:\\n{class_counts}\")\n",
    "\n",
    "# [3] Token Length Analysis (Critical!)\n",
    "tokenizer = AutoTokenizer.from_pretrained(\"roberta-base\")\n",
    "df['token_count'] = df['text'].apply(lambda x: len(tokenizer.tokenize(x)))\n",
    "\n",
    "plt.figure(figsize=(10,4))\n",
    "df['token_count'].hist(bins=50)\n",
    "plt.axvline(x=256, color='r', linestyle='--')\n",
    "plt.title(f\"Token Counts (Max={df['token_count'].max()}, >256={(df['token_count']>256).mean():.1%})\")\n",
    "plt.show()\n",
    "\n",
    "# [4] Phishing Keyword Check\n",
    "keywords = ['click', 'urgent', 'password', 'verify', 'account']\n",
    "print(\"\\nPhishing keyword frequency:\")\n",
    "for word in keywords:\n",
    "    freq = df[df['label']==1]['text'].str.contains(word, case=False).mean()\n",
    "    print(f\"{word:<10}: {freq:.1%} in phishing emails\")\n",
    "\n",
    "# [5] Sample Inspection\n",
    "print(\"\\n=== Sample Legitimate Email ===\")\n",
    "print(df[df['label']==0]['text'].iloc[0][:300] + \"...\")\n",
    "print(\"\\n=== Sample Phishing Email ===\")\n",
    "print(df[df['label']==1]['text'].iloc[0][:300] + \"...\")"
   ]
  }
 ],
 "metadata": {
  "language_info": {
   "name": "python"
  }
 },
 "nbformat": 4,
 "nbformat_minor": 5
}
